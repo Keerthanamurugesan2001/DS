{
 "cells": [
  {
   "cell_type": "markdown",
   "metadata": {},
   "source": [
    "Day 1 - 11 12 5 2 \n",
    "Day 2 - 15 6 10 \n",
    "Day 3 - 10 8 12 5 \n",
    "Day 4 - 12 15 8 6 \n",
    "T = [[11, 12, 5, 2], [15, 6,10], [10, 8, 12, 5], [12,15,8,6]]\n",
    "\n",
    "Accessing Values"
   ]
  },
  {
   "cell_type": "code",
   "execution_count": 1,
   "metadata": {},
   "outputs": [
    {
     "name": "stdout",
     "output_type": "stream",
     "text": [
      "[11, 12, 5, 2]\n",
      "10\n"
     ]
    }
   ],
   "source": [
    "from array import *\n",
    "\n",
    "T = [[11, 12, 5, 2], [15, 6,10], [10, 8, 12, 5], [12,15,8,6]]\n",
    "\n",
    "print(T[0])\n",
    "\n",
    "print(T[1][2])"
   ]
  },
  {
   "cell_type": "markdown",
   "metadata": {},
   "source": [
    "Inserting Values"
   ]
  },
  {
   "cell_type": "code",
   "execution_count": 2,
   "metadata": {},
   "outputs": [
    {
     "name": "stdout",
     "output_type": "stream",
     "text": [
      "11 12 5 2 \n",
      "15 6 10 \n",
      "0 5 11 13 6 \n",
      "10 8 12 5 \n",
      "12 15 8 6 \n"
     ]
    }
   ],
   "source": [
    "from array import *\n",
    "T = [[11, 12, 5, 2], [15, 6,10], [10, 8, 12, 5], [12,15,8,6]]\n",
    "\n",
    "T.insert(2, [0,5,11,13,6])\n",
    "\n",
    "for r in T:\n",
    "   for c in r:\n",
    "      print(c,end = \" \")\n",
    "   print()"
   ]
  },
  {
   "cell_type": "markdown",
   "metadata": {},
   "source": [
    "Updating Values"
   ]
  },
  {
   "cell_type": "code",
   "execution_count": 3,
   "metadata": {},
   "outputs": [
    {
     "name": "stdout",
     "output_type": "stream",
     "text": [
      "11 12 5 7 \n",
      "15 6 10 \n",
      "11 9 \n",
      "12 15 8 6 \n"
     ]
    }
   ],
   "source": [
    "from array import *\n",
    "\n",
    "T = [[11, 12, 5, 2], [15, 6,10], [10, 8, 12, 5], [12,15,8,6]]\n",
    "\n",
    "T[2] = [11,9]\n",
    "T[0][3] = 7\n",
    "for r in T:\n",
    "   for c in r:\n",
    "      print(c,end = \" \")\n",
    "   print()"
   ]
  },
  {
   "cell_type": "markdown",
   "metadata": {},
   "source": [
    "Deleting the Values"
   ]
  },
  {
   "cell_type": "code",
   "execution_count": 4,
   "metadata": {},
   "outputs": [
    {
     "name": "stdout",
     "output_type": "stream",
     "text": [
      "11 12 5 2 \n",
      "15 6 10 \n",
      "10 8 12 5 \n"
     ]
    }
   ],
   "source": [
    "from array import *\n",
    "T = [[11, 12, 5, 2], [15, 6,10], [10, 8, 12, 5], [12,15,8,6]]\n",
    "\n",
    "del T[3]\n",
    "\n",
    "for r in T:\n",
    "   for c in r:\n",
    "      print(c,end = \" \")\n",
    "   print()"
   ]
  }
 ],
 "metadata": {
  "kernelspec": {
   "display_name": "Python 3",
   "language": "python",
   "name": "python3"
  },
  "language_info": {
   "codemirror_mode": {
    "name": "ipython",
    "version": 3
   },
   "file_extension": ".py",
   "mimetype": "text/x-python",
   "name": "python",
   "nbconvert_exporter": "python",
   "pygments_lexer": "ipython3",
   "version": "3.11.7"
  }
 },
 "nbformat": 4,
 "nbformat_minor": 2
}
