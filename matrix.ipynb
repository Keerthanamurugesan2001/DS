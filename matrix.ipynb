{
 "cells": [
  {
   "cell_type": "code",
   "execution_count": 2,
   "metadata": {},
   "outputs": [
    {
     "name": "stdout",
     "output_type": "stream",
     "text": [
      "[['Mon' '18' '20' '22' '17']\n",
      " ['Tue' '11' '18' '21' '18']\n",
      " ['Wed' '15' '21' '20' '19']\n",
      " ['Thu' '11' '20' '22' '21']\n",
      " ['Fri' '18' '17' '23' '22']\n",
      " ['Sat' '12' '22' '20' '18']\n",
      " ['Sun' '13' '15' '19' '16']]\n"
     ]
    }
   ],
   "source": [
    "from numpy import * \n",
    "a = array([['Mon',18,20,22,17],['Tue',11,18,21,18],\n",
    "   ['Wed',15,21,20,19],['Thu',11,20,22,21],\n",
    "   ['Fri',18,17,23,22],['Sat',12,22,20,18],\n",
    "   ['Sun',13,15,19,16]])\n",
    "m = reshape(a,(7,5))\n",
    "print(m)"
   ]
  },
  {
   "cell_type": "markdown",
   "metadata": {},
   "source": [
    "Accessing Values"
   ]
  },
  {
   "cell_type": "code",
   "execution_count": 3,
   "metadata": {},
   "outputs": [
    {
     "name": "stdout",
     "output_type": "stream",
     "text": [
      "['Wed' '15' '21' '20' '19']\n",
      "23\n"
     ]
    }
   ],
   "source": [
    "\n",
    "m = array([['Mon',18,20,22,17],['Tue',11,18,21,18],\n",
    "   ['Wed',15,21,20,19],['Thu',11,20,22,21],\n",
    "   ['Fri',18,17,23,22],['Sat',12,22,20,18],\n",
    "   ['Sun',13,15,19,16]])\n",
    "    \n",
    "# Print data for Wednesday\n",
    "print(m[2])\n",
    "\n",
    "# Print data for friday evening\n",
    "print(m[4][3])"
   ]
  },
  {
   "cell_type": "markdown",
   "metadata": {},
   "source": [
    "Adding a row"
   ]
  },
  {
   "cell_type": "code",
   "execution_count": 4,
   "metadata": {},
   "outputs": [
    {
     "name": "stdout",
     "output_type": "stream",
     "text": [
      "[['Mon' '18' '20' '22' '17']\n",
      " ['Tue' '11' '18' '21' '18']\n",
      " ['Wed' '15' '21' '20' '19']\n",
      " ['Thu' '11' '20' '22' '21']\n",
      " ['Fri' '18' '17' '23' '22']\n",
      " ['Sat' '12' '22' '20' '18']\n",
      " ['Sun' '13' '15' '19' '16']\n",
      " ['Avg' '12' '15' '13' '11']]\n"
     ]
    }
   ],
   "source": [
    "from numpy import * \n",
    "m = array([['Mon',18,20,22,17],['Tue',11,18,21,18],\n",
    "   ['Wed',15,21,20,19],['Thu',11,20,22,21],\n",
    "   ['Fri',18,17,23,22],['Sat',12,22,20,18],\n",
    "   ['Sun',13,15,19,16]])\n",
    "m_r = append(m,[['Avg',12,15,13,11]],0)\n",
    "\n",
    "print(m_r)"
   ]
  },
  {
   "cell_type": "markdown",
   "metadata": {},
   "source": [
    "Adding a column"
   ]
  },
  {
   "cell_type": "code",
   "execution_count": 11,
   "metadata": {},
   "outputs": [
    {
     "name": "stdout",
     "output_type": "stream",
     "text": [
      "[['Mon' '18' '20' '22' '17' '1']\n",
      " ['Tue' '11' '18' '21' '18' '2']\n",
      " ['Wed' '15' '21' '20' '19' '3']\n",
      " ['Thu' '11' '20' '22' '21' '4']\n",
      " ['Fri' '18' '17' '23' '22' '5']\n",
      " ['Sat' '12' '22' '20' '18' '6']\n",
      " ['Sun' '13' '15' '19' '16' '7']]\n"
     ]
    }
   ],
   "source": [
    "from numpy import * \n",
    "m = array([['Mon',18,20,22,17],['Tue',11,18,21,18],\n",
    "   ['Wed',15,21,20,19],['Thu',11,20,22,21],\n",
    "   ['Fri',18,17,23,22],['Sat',12,22,20,18],\n",
    "   ['Sun',13,15,19,16]])\n",
    "m_c = insert(m,[5],[[1],[2],[3],[4],[5],[6],[7]],1)\n",
    "\n",
    "print(m_c)"
   ]
  },
  {
   "cell_type": "markdown",
   "metadata": {},
   "source": [
    "Delete a row"
   ]
  },
  {
   "cell_type": "code",
   "execution_count": 7,
   "metadata": {},
   "outputs": [
    {
     "name": "stdout",
     "output_type": "stream",
     "text": [
      "[['Mon' '18' '20' '22' '17']\n",
      " ['Tue' '11' '18' '21' '18']\n",
      " ['Thu' '11' '20' '22' '21']\n",
      " ['Fri' '18' '17' '23' '22']\n",
      " ['Sat' '12' '22' '20' '18']\n",
      " ['Sun' '13' '15' '19' '16']]\n"
     ]
    }
   ],
   "source": [
    "from numpy import * \n",
    "m = array([['Mon',18,20,22,17],['Tue',11,18,21,18],\n",
    "   ['Wed',15,21,20,19],['Thu',11,20,22,21],\n",
    "   ['Fri',18,17,23,22],['Sat',12,22,20,18],\n",
    "   ['Sun',13,15,19,16]])\n",
    "m = delete(m,[2],0)\n",
    "\n",
    "print(m)"
   ]
  },
  {
   "cell_type": "markdown",
   "metadata": {},
   "source": [
    "Delete a column"
   ]
  },
  {
   "cell_type": "code",
   "execution_count": 8,
   "metadata": {},
   "outputs": [
    {
     "name": "stdout",
     "output_type": "stream",
     "text": [
      "[['Mon' '18' '22' '17']\n",
      " ['Tue' '11' '21' '18']\n",
      " ['Wed' '15' '20' '19']\n",
      " ['Thu' '11' '22' '21']\n",
      " ['Fri' '18' '23' '22']\n",
      " ['Sat' '12' '20' '18']\n",
      " ['Sun' '13' '19' '16']]\n"
     ]
    }
   ],
   "source": [
    "from numpy import * \n",
    "m = array([['Mon',18,20,22,17],['Tue',11,18,21,18],\n",
    "   ['Wed',15,21,20,19],['Thu',11,20,22,21],\n",
    "   ['Fri',18,17,23,22],['Sat',12,22,20,18],\n",
    "   ['Sun',13,15,19,16]])\n",
    "m = delete(m,s_[2],1)\n",
    "\n",
    "print(m)"
   ]
  },
  {
   "cell_type": "markdown",
   "metadata": {},
   "source": [
    "Update a row"
   ]
  },
  {
   "cell_type": "code",
   "execution_count": 9,
   "metadata": {},
   "outputs": [
    {
     "name": "stdout",
     "output_type": "stream",
     "text": [
      "[['Mon' '18' '20' '22' '17']\n",
      " ['Tue' '11' '18' '21' '18']\n",
      " ['Wed' '15' '21' '20' '19']\n",
      " ['Thu' '0' '0' '0' '0']\n",
      " ['Fri' '18' '17' '23' '22']\n",
      " ['Sat' '12' '22' '20' '18']\n",
      " ['Sun' '13' '15' '19' '16']]\n"
     ]
    }
   ],
   "source": [
    "from numpy import * \n",
    "m = array([['Mon',18,20,22,17],['Tue',11,18,21,18],\n",
    "   ['Wed',15,21,20,19],['Thu',11,20,22,21],\n",
    "   ['Fri',18,17,23,22],['Sat',12,22,20,18],\n",
    "   ['Sun',13,15,19,16]])\n",
    "m[3] = ['Thu',0,0,0,0]\n",
    "\n",
    "print(m)"
   ]
  }
 ],
 "metadata": {
  "kernelspec": {
   "display_name": ".venv",
   "language": "python",
   "name": "python3"
  },
  "language_info": {
   "codemirror_mode": {
    "name": "ipython",
    "version": 3
   },
   "file_extension": ".py",
   "mimetype": "text/x-python",
   "name": "python",
   "nbconvert_exporter": "python",
   "pygments_lexer": "ipython3",
   "version": "3.11.7"
  }
 },
 "nbformat": 4,
 "nbformat_minor": 2
}
