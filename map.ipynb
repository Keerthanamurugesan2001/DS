{
 "cells": [
  {
   "cell_type": "markdown",
   "metadata": {},
   "source": [
    "Creating a ChainMap"
   ]
  },
  {
   "cell_type": "code",
   "execution_count": 1,
   "metadata": {},
   "outputs": [
    {
     "name": "stdout",
     "output_type": "stream",
     "text": [
      "[{'day1': 'Mon', 'day2': 'Tue'}, {'day3': 'Wed', 'day1': 'Thu'}] \n",
      "\n"
     ]
    }
   ],
   "source": [
    "import collections\n",
    "\n",
    "dict1 = {'day1': 'Mon', 'day2': 'Tue'}\n",
    "dict2 = {'day3': 'Wed', 'day1': 'Thu'}\n",
    "\n",
    "res = collections.ChainMap(dict1, dict2)\n",
    "\n",
    "# Creating a single dictionary\n",
    "print(res.maps,'\\n')\n",
    "\n"
   ]
  },
  {
   "cell_type": "code",
   "execution_count": 2,
   "metadata": {},
   "outputs": [
    {
     "name": "stdout",
     "output_type": "stream",
     "text": [
      "Keys = ['day3', 'day1', 'day2']\n",
      "Values = ['Wed', 'Mon', 'Tue']\n"
     ]
    }
   ],
   "source": [
    "print('Keys = {}'.format(list(res.keys())))\n",
    "print('Values = {}'.format(list(res.values())))"
   ]
  },
  {
   "cell_type": "code",
   "execution_count": 3,
   "metadata": {},
   "outputs": [
    {
     "name": "stdout",
     "output_type": "stream",
     "text": [
      "elements:\n",
      "day3 = Wed\n",
      "day1 = Mon\n",
      "day2 = Tue\n",
      "\n"
     ]
    }
   ],
   "source": [
    "print('elements:')\n",
    "for key, val in res.items():\n",
    "   print('{} = {}'.format(key, val))\n",
    "print()"
   ]
  },
  {
   "cell_type": "code",
   "execution_count": 4,
   "metadata": {},
   "outputs": [
    {
     "name": "stdout",
     "output_type": "stream",
     "text": [
      "day3 in res: True\n",
      "day4 in res: False\n"
     ]
    }
   ],
   "source": [
    "# Find a specific value in the result\n",
    "print('day3 in res: {}'.format(('day1' in res)))\n",
    "print('day4 in res: {}'.format(('day4' in res)))"
   ]
  },
  {
   "cell_type": "markdown",
   "metadata": {},
   "source": [
    "Map Reordering"
   ]
  },
  {
   "cell_type": "code",
   "execution_count": 5,
   "metadata": {},
   "outputs": [
    {
     "name": "stdout",
     "output_type": "stream",
     "text": [
      "[{'day1': 'Mon', 'day2': 'Tue'}, {'day3': 'Wed', 'day4': 'Thu'}] \n",
      "\n"
     ]
    }
   ],
   "source": [
    "dict1 = {'day1': 'Mon', 'day2': 'Tue'}\n",
    "dict2 = {'day3': 'Wed', 'day4': 'Thu'}\n",
    "\n",
    "res1 = collections.ChainMap(dict1, dict2)\n",
    "print(res1.maps,'\\n')"
   ]
  },
  {
   "cell_type": "code",
   "execution_count": 7,
   "metadata": {},
   "outputs": [
    {
     "name": "stdout",
     "output_type": "stream",
     "text": [
      "[{'day3': 'Wed', 'day4': 'Thu'}, {'day1': 'Mon', 'day2': 'Tue'}]\n"
     ]
    }
   ],
   "source": [
    "res2 = collections.ChainMap(dict2, dict1)\n",
    "print(res2.maps)"
   ]
  },
  {
   "cell_type": "markdown",
   "metadata": {},
   "source": [
    "Updating Map"
   ]
  },
  {
   "cell_type": "code",
   "execution_count": 8,
   "metadata": {},
   "outputs": [
    {
     "name": "stdout",
     "output_type": "stream",
     "text": [
      "[{'day1': 'Mon', 'day2': 'Tue'}, {'day3': 'Wed', 'day4': 'Thu'}] \n",
      "\n"
     ]
    }
   ],
   "source": [
    "dict1 = {'day1': 'Mon', 'day2': 'Tue'}\n",
    "dict2 = {'day3': 'Wed', 'day4': 'Thu'}\n",
    "\n",
    "res = collections.ChainMap(dict1, dict2)\n",
    "print(res.maps,'\\n')"
   ]
  },
  {
   "cell_type": "code",
   "execution_count": 9,
   "metadata": {},
   "outputs": [
    {
     "name": "stdout",
     "output_type": "stream",
     "text": [
      "[{'day1': 'Mon', 'day2': 'Tue'}, {'day3': 'Wed', 'day4': 'Fri'}] \n",
      "\n"
     ]
    }
   ],
   "source": [
    "dict2['day4'] = 'Fri'\n",
    "print(res.maps,'\\n')"
   ]
  }
 ],
 "metadata": {
  "kernelspec": {
   "display_name": ".venv",
   "language": "python",
   "name": "python3"
  },
  "language_info": {
   "codemirror_mode": {
    "name": "ipython",
    "version": 3
   },
   "file_extension": ".py",
   "mimetype": "text/x-python",
   "name": "python",
   "nbconvert_exporter": "python",
   "pygments_lexer": "ipython3",
   "version": "3.11.7"
  }
 },
 "nbformat": 4,
 "nbformat_minor": 2
}
